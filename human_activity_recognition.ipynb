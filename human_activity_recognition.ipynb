{
  "nbformat": 4,
  "nbformat_minor": 0,
  "metadata": {
    "colab": {
      "provenance": [],
      "authorship_tag": "ABX9TyOAl7IBWH5u+O8vGO4kY1mM",
      "include_colab_link": true
    },
    "kernelspec": {
      "name": "python3",
      "display_name": "Python 3"
    },
    "language_info": {
      "name": "python"
    }
  },
  "cells": [
    {
      "cell_type": "markdown",
      "metadata": {
        "id": "view-in-github",
        "colab_type": "text"
      },
      "source": [
        "<a href=\"https://colab.research.google.com/github/ziishanahmad/human-activity-recognition/blob/main/human_activity_recognition.ipynb\" target=\"_parent\"><img src=\"https://colab.research.google.com/assets/colab-badge.svg\" alt=\"Open In Colab\"/></a>"
      ]
    },
    {
      "cell_type": "code",
      "execution_count": 3,
      "metadata": {
        "id": "c8E0JASVx6kl"
      },
      "outputs": [],
      "source": [
        "# Import necessary libraries for data manipulation and visualization\n",
        "import numpy as np  # NumPy is used for numerical operations on large multi-dimensional arrays and matrices\n",
        "import pandas as pd  # Pandas is used for data manipulation and analysis, particularly for working with tabular data\n",
        "import matplotlib.pyplot as plt  # Matplotlib is a plotting library for creating static, animated, and interactive visualizations\n",
        "import seaborn as sns  # Seaborn is a statistical data visualization library based on Matplotlib\n",
        "\n",
        "# Import libraries for building and training the machine learning model\n",
        "from sklearn.model_selection import train_test_split  # Train_test_split is used to split the dataset into training and testing sets\n",
        "from sklearn.preprocessing import StandardScaler  # StandardScaler is used to standardize features by removing the mean and scaling to unit variance\n",
        "from sklearn.metrics import classification_report, confusion_matrix  # These functions are used to evaluate the performance of the machine learning model\n",
        "\n",
        "# Import libraries for building neural network model\n",
        "from tensorflow.keras.models import Sequential  # Sequential is a linear stack of layers for building neural networks\n",
        "from tensorflow.keras.layers import Dense, LSTM, Dropout  # Layers for building the neural network model: Dense (fully connected layer), LSTM (Long Short-Term Memory layer), Dropout (regularization layer)\n"
      ]
    },
    {
      "cell_type": "code",
      "source": [
        "# Download and unzip the dataset using wget\n",
        "# The dataset is downloaded from the UCI Machine Learning Repository and saved as UCI_HAR_Dataset.zip\n",
        "!wget -q -O UCI_HAR_Dataset.zip https://archive.ics.uci.edu/ml/machine-learning-databases/00240/UCI%20HAR%20Dataset.zip\n",
        "\n",
        "# Unzip the downloaded dataset file to the directory ./UCI_HAR_Dataset\n",
        "!unzip -q UCI_HAR_Dataset.zip -d ./UCI_HAR_Dataset\n",
        "\n",
        "# Load the training and test datasets into Pandas dataframes\n",
        "train_data = pd.read_csv('./UCI_HAR_Dataset/UCI HAR Dataset/train/X_train.txt', delim_whitespace=True, header=None)\n",
        "# The training data is loaded from 'X_train.txt' with space as delimiter and no header\n",
        "train_labels = pd.read_csv('./UCI_HAR_Dataset/UCI HAR Dataset/train/y_train.txt', delim_whitespace=True, header=None)\n",
        "# The training labels are loaded from 'y_train.txt' with space as delimiter and no header\n",
        "test_data = pd.read_csv('./UCI_HAR_Dataset/UCI HAR Dataset/test/X_test.txt', delim_whitespace=True, header=None)\n",
        "# The test data is loaded from 'X_test.txt' with space as delimiter and no header\n",
        "test_labels = pd.read_csv('./UCI_HAR_Dataset/UCI HAR Dataset/test/y_test.txt', delim_whitespace=True, header=None)\n",
        "# The test labels are loaded from 'y_test.txt' with space as delimiter and no header\n",
        "\n",
        "# Load the feature names into a Pandas dataframe\n",
        "features = pd.read_csv('./UCI_HAR_Dataset/UCI HAR Dataset/features.txt', delim_whitespace=True, header=None)\n",
        "# The feature names are loaded from 'features.txt' with space as delimiter and no header\n",
        "feature_names = features[1].tolist()\n",
        "# Convert the feature names to a list for easier usage\n",
        "\n",
        "# Assign column names to the dataframes using the feature names\n",
        "train_data.columns = feature_names\n",
        "# Assign feature names to the columns of the training data\n",
        "test_data.columns = feature_names\n",
        "# Assign feature names to the columns of the test data\n",
        "\n",
        "# Adjust the labels to be zero-indexed (range 0-5 instead of 1-6)\n",
        "train_labels[0] = train_labels[0] - 1\n",
        "test_labels[0] = test_labels[0] - 1\n",
        "\n",
        "# Display the shape of the datasets to understand their dimensions\n",
        "print(f'Train data shape: {train_data.shape}')\n",
        "# Print the shape of the training data\n",
        "print(f'Test data shape: {test_data.shape}')\n",
        "# Print the shape of the test data\n"
      ],
      "metadata": {
        "colab": {
          "base_uri": "https://localhost:8080/"
        },
        "id": "UkBrtpQuyeip",
        "outputId": "c814a066-c832-4437-d967-8669b4a9cd48"
      },
      "execution_count": 11,
      "outputs": [
        {
          "output_type": "stream",
          "name": "stdout",
          "text": [
            "Train data shape: (7352, 561)\n",
            "Test data shape: (2947, 561)\n"
          ]
        }
      ]
    },
    {
      "cell_type": "code",
      "source": [
        "# Display the first few rows of the training data to understand its structure\n",
        "print(train_data.head())\n",
        "\n",
        "# Visualize the distribution of the training labels to see how many samples belong to each activity class\n",
        "plt.figure(figsize=(10, 6))  # Set the figure size\n",
        "sns.countplot(train_labels[0])  # Create a count plot of the training labels\n",
        "plt.title('Distribution of Training Labels')  # Set the title of the plot\n",
        "plt.xlabel('Activity')  # Set the label for the x-axis\n",
        "plt.ylabel('Count')  # Set the label for the y-axis\n",
        "plt.show()  # Display the plot\n"
      ],
      "metadata": {
        "colab": {
          "base_uri": "https://localhost:8080/",
          "height": 1000
        },
        "id": "_ajr_O9Ey8Ev",
        "outputId": "2b524524-052f-4a34-ca70-bc79da1c36e5"
      },
      "execution_count": 6,
      "outputs": [
        {
          "output_type": "stream",
          "name": "stdout",
          "text": [
            "   tBodyAcc-mean()-X  tBodyAcc-mean()-Y  tBodyAcc-mean()-Z  tBodyAcc-std()-X  \\\n",
            "0           0.288585          -0.020294          -0.132905         -0.995279   \n",
            "1           0.278419          -0.016411          -0.123520         -0.998245   \n",
            "2           0.279653          -0.019467          -0.113462         -0.995380   \n",
            "3           0.279174          -0.026201          -0.123283         -0.996091   \n",
            "4           0.276629          -0.016570          -0.115362         -0.998139   \n",
            "\n",
            "   tBodyAcc-std()-Y  tBodyAcc-std()-Z  tBodyAcc-mad()-X  tBodyAcc-mad()-Y  \\\n",
            "0         -0.983111         -0.913526         -0.995112         -0.983185   \n",
            "1         -0.975300         -0.960322         -0.998807         -0.974914   \n",
            "2         -0.967187         -0.978944         -0.996520         -0.963668   \n",
            "3         -0.983403         -0.990675         -0.997099         -0.982750   \n",
            "4         -0.980817         -0.990482         -0.998321         -0.979672   \n",
            "\n",
            "   tBodyAcc-mad()-Z  tBodyAcc-max()-X  ...  fBodyBodyGyroJerkMag-meanFreq()  \\\n",
            "0         -0.923527         -0.934724  ...                        -0.074323   \n",
            "1         -0.957686         -0.943068  ...                         0.158075   \n",
            "2         -0.977469         -0.938692  ...                         0.414503   \n",
            "3         -0.989302         -0.938692  ...                         0.404573   \n",
            "4         -0.990441         -0.942469  ...                         0.087753   \n",
            "\n",
            "   fBodyBodyGyroJerkMag-skewness()  fBodyBodyGyroJerkMag-kurtosis()  \\\n",
            "0                        -0.298676                        -0.710304   \n",
            "1                        -0.595051                        -0.861499   \n",
            "2                        -0.390748                        -0.760104   \n",
            "3                        -0.117290                        -0.482845   \n",
            "4                        -0.351471                        -0.699205   \n",
            "\n",
            "   angle(tBodyAccMean,gravity)  angle(tBodyAccJerkMean),gravityMean)  \\\n",
            "0                    -0.112754                              0.030400   \n",
            "1                     0.053477                             -0.007435   \n",
            "2                    -0.118559                              0.177899   \n",
            "3                    -0.036788                             -0.012892   \n",
            "4                     0.123320                              0.122542   \n",
            "\n",
            "   angle(tBodyGyroMean,gravityMean)  angle(tBodyGyroJerkMean,gravityMean)  \\\n",
            "0                         -0.464761                             -0.018446   \n",
            "1                         -0.732626                              0.703511   \n",
            "2                          0.100699                              0.808529   \n",
            "3                          0.640011                             -0.485366   \n",
            "4                          0.693578                             -0.615971   \n",
            "\n",
            "   angle(X,gravityMean)  angle(Y,gravityMean)  angle(Z,gravityMean)  \n",
            "0             -0.841247              0.179941             -0.058627  \n",
            "1             -0.844788              0.180289             -0.054317  \n",
            "2             -0.848933              0.180637             -0.049118  \n",
            "3             -0.848649              0.181935             -0.047663  \n",
            "4             -0.847865              0.185151             -0.043892  \n",
            "\n",
            "[5 rows x 561 columns]\n"
          ]
        },
        {
          "output_type": "display_data",
          "data": {
            "text/plain": [
              "<Figure size 1000x600 with 1 Axes>"
            ],
            "image/png": "[encoded data removed]"
          },
          "metadata": {}
        }
      ]
    },
    {
      "cell_type": "code",
      "source": [
        "# Initialize the StandardScaler to standardize the features by removing the mean and scaling to unit variance\n",
        "scaler = StandardScaler()\n",
        "\n",
        "# Scale the training and test data using the StandardScaler\n",
        "X_train = scaler.fit_transform(train_data)  # Fit the scaler on the training data and transform it\n",
        "X_test = scaler.transform(test_data)  # Transform the test data using the already fitted scaler\n",
        "\n",
        "# Convert the labels to numpy arrays for compatibility with the machine learning model\n",
        "y_train = train_labels.values  # Convert training labels to numpy array\n",
        "y_test = test_labels.values  # Convert test labels to numpy array\n"
      ],
      "metadata": {
        "id": "I-D3jQZJ0yMC"
      },
      "execution_count": 12,
      "outputs": []
    },
    {
      "cell_type": "code",
      "source": [
        "# Define the model architecture using the Sequential API\n",
        "model = Sequential()\n",
        "\n",
        "# Add the first LSTM layer with 100 units and return sequences\n",
        "model.add(LSTM(100, input_shape=(X_train.shape[1], 1), return_sequences=True))\n",
        "# LSTM layer with 100 units; input_shape is the number of features in the dataset; return_sequences=True to return the full sequence\n",
        "\n",
        "# Add a dropout layer for regularization to prevent overfitting\n",
        "model.add(Dropout(0.5))\n",
        "# Dropout layer with a dropout rate of 0.5 (50%) to randomly drop half of the units\n",
        "\n",
        "# Add the second LSTM layer with 100 units\n",
        "model.add(LSTM(100))\n",
        "# LSTM layer with 100 units; no need to specify input shape as it is inferred from the previous layer\n",
        "\n",
        "# Add another dropout layer for regularization\n",
        "model.add(Dropout(0.5))\n",
        "# Dropout layer with a dropout rate of 0.5 (50%) to randomly drop half of the units\n",
        "\n",
        "# Add the output dense layer with 6 units (one for each activity) and softmax activation\n",
        "model.add(Dense(6, activation='softmax'))\n",
        "# Dense layer with 6 units (corresponding to the 6 activity classes); softmax activation to output probabilities\n",
        "\n",
        "# Compile the model with Adam optimizer and sparse categorical crossentropy loss\n",
        "model.compile(optimizer='adam', loss='sparse_categorical_crossentropy', metrics=['accuracy'])\n",
        "# Adam optimizer for training the model; sparse categorical crossentropy loss for multi-class classification; accuracy as a metric\n",
        "\n",
        "# Display the model architecture\n",
        "model.summary()\n",
        "# Print the summary of the model architecture, showing the layers and the number of parameters\n"
      ],
      "metadata": {
        "colab": {
          "base_uri": "https://localhost:8080/"
        },
        "id": "5nfx9vVC07I-",
        "outputId": "3a782bec-5b19-462a-89ab-d31548958945"
      },
      "execution_count": 13,
      "outputs": [
        {
          "output_type": "stream",
          "name": "stdout",
          "text": [
            "Model: \"sequential_1\"\n",
            "_________________________________________________________________\n",
            " Layer (type)                Output Shape              Param #   \n",
            "=================================================================\n",
            " lstm_2 (LSTM)               (None, 561, 100)          40800     \n",
            "                                                                 \n",
            " dropout_2 (Dropout)         (None, 561, 100)          0         \n",
            "                                                                 \n",
            " lstm_3 (LSTM)               (None, 100)               80400     \n",
            "                                                                 \n",
            " dropout_3 (Dropout)         (None, 100)               0         \n",
            "                                                                 \n",
            " dense_1 (Dense)             (None, 6)                 606       \n",
            "                                                                 \n",
            "=================================================================\n",
            "Total params: 121806 (475.80 KB)\n",
            "Trainable params: 121806 (475.80 KB)\n",
            "Non-trainable params: 0 (0.00 Byte)\n",
            "_________________________________________________________________\n"
          ]
        }
      ]
    },
    {
      "cell_type": "code",
      "source": [
        "# Reshape the data to fit the LSTM model\n",
        "X_train_reshaped = X_train.reshape((X_train.shape[0], X_train.shape[1], 1))\n",
        "# Reshape the training data to 3D shape (samples, timesteps, features) required by LSTM\n",
        "X_test_reshaped = X_test.reshape((X_test.shape[0], X_test.shape[1], 1))\n",
        "# Reshape the test data to 3D shape (samples, timesteps, features) required by LSTM\n",
        "\n",
        "# Train the model using the training data\n",
        "history = model.fit(X_train_reshaped, y_train, epochs=10, batch_size=64, validation_split=0.2)\n",
        "# Fit the model to the training data; 10 epochs, batch size of 64, and 20% of the data used for validation\n"
      ],
      "metadata": {
        "colab": {
          "base_uri": "https://localhost:8080/"
        },
        "id": "NOH9AZKo0_7S",
        "outputId": "cc2a73c9-9762-4272-b4c7-17964db9a772"
      },
      "execution_count": 14,
      "outputs": [
        {
          "output_type": "stream",
          "name": "stdout",
          "text": [
            "Epoch 1/10\n",
            "92/92 [==============================] - 162s 2s/step - loss: 1.2261 - accuracy: 0.3846 - val_loss: 1.0687 - val_accuracy: 0.5595\n",
            "Epoch 2/10\n",
            "92/92 [==============================] - 164s 2s/step - loss: 0.9916 - accuracy: 0.5431 - val_loss: 0.9729 - val_accuracy: 0.6356\n",
            "Epoch 3/10\n",
            "92/92 [==============================] - 164s 2s/step - loss: 0.7373 - accuracy: 0.6655 - val_loss: 0.8236 - val_accuracy: 0.7247\n",
            "Epoch 4/10\n",
            "92/92 [==============================] - 165s 2s/step - loss: 0.6097 - accuracy: 0.7335 - val_loss: 0.7858 - val_accuracy: 0.7906\n",
            "Epoch 5/10\n",
            "92/92 [==============================] - 163s 2s/step - loss: 0.5558 - accuracy: 0.7660 - val_loss: 0.7181 - val_accuracy: 0.7899\n",
            "Epoch 6/10\n",
            "92/92 [==============================] - 163s 2s/step - loss: 0.4841 - accuracy: 0.8024 - val_loss: 0.7104 - val_accuracy: 0.8083\n",
            "Epoch 7/10\n",
            "92/92 [==============================] - 164s 2s/step - loss: 0.4395 - accuracy: 0.8201 - val_loss: 0.6722 - val_accuracy: 0.8300\n",
            "Epoch 8/10\n",
            "92/92 [==============================] - 164s 2s/step - loss: 0.4036 - accuracy: 0.8424 - val_loss: 0.6421 - val_accuracy: 0.8266\n",
            "Epoch 9/10\n",
            "92/92 [==============================] - 164s 2s/step - loss: 0.3934 - accuracy: 0.8480 - val_loss: 0.6569 - val_accuracy: 0.8226\n",
            "Epoch 10/10\n",
            "92/92 [==============================] - 164s 2s/step - loss: 0.3658 - accuracy: 0.8577 - val_loss: 0.6567 - val_accuracy: 0.8185\n"
          ]
        }
      ]
    },
    {
      "cell_type": "code",
      "source": [
        "# Evaluate the model on the test data\n",
        "test_loss, test_accuracy = model.evaluate(X_test_reshaped, y_test)\n",
        "# Evaluate the model's performance on the test data and return the loss and accuracy\n",
        "print(f'Test Loss: {test_loss:.4f}')\n",
        "# Print the test loss with 4 decimal places\n",
        "print(f'Test Accuracy: {test_accuracy:.4f}')\n",
        "# Print the test accuracy with 4 decimal places\n",
        "\n",
        "# Generate classification report to see detailed performance metrics\n",
        "y_pred = np.argmax(model.predict(X_test_reshaped), axis=1)\n",
        "# Predict the class probabilities for the test data and convert them to class labels\n",
        "print(classification_report(y_test, y_pred))\n",
        "# Print the classification report, showing precision, recall, and F1-score for each class\n",
        "\n",
        "# Plot confusion matrix to visualize the performance of the model\n",
        "conf_matrix = confusion_matrix(y_test, y_pred)\n",
        "# Compute the confusion matrix to evaluate the accuracy of the classification\n",
        "plt.figure(figsize=(10, 8))  # Set the figure size\n",
        "sns.heatmap(conf_matrix, annot=True, fmt='d', cmap='Blues')\n",
        "# Create a heatmap of the confusion matrix with annotations and a blue color map\n",
        "plt.title('Confusion Matrix')  # Set the title of the plot\n",
        "plt.xlabel('Predicted')  # Set the label for the x-axis\n",
        "plt.ylabel('Actual')  # Set the label for the y-axis\n",
        "plt.show()  # Display the plot\n"
      ],
      "metadata": {
        "colab": {
          "base_uri": "https://localhost:8080/",
          "height": 1000
        },
        "id": "H04K0_iB9CXK",
        "outputId": "d9184e32-31b7-44ff-d462-fb845b210213"
      },
      "execution_count": 15,
      "outputs": [
        {
          "output_type": "stream",
          "name": "stdout",
          "text": [
            "93/93 [==============================] - 21s 225ms/step - loss: 0.5773 - accuracy: 0.7974\n",
            "Test Loss: 0.5773\n",
            "Test Accuracy: 0.7974\n",
            "93/93 [==============================] - 22s 230ms/step\n",
            "              precision    recall  f1-score   support\n",
            "\n",
            "           0       0.71      0.85      0.77       496\n",
            "           1       0.71      0.73      0.72       471\n",
            "           2       0.85      0.62      0.71       420\n",
            "           3       0.81      0.80      0.80       491\n",
            "           4       0.76      0.82      0.79       532\n",
            "           5       1.00      0.92      0.96       537\n",
            "\n",
            "    accuracy                           0.80      2947\n",
            "   macro avg       0.80      0.79      0.79      2947\n",
            "weighted avg       0.81      0.80      0.80      2947\n",
            "\n"
          ]
        },
        {
          "output_type": "display_data",
          "data": {
            "text/plain": [
              "<Figure size 1000x800 with 2 Axes>"
            ],
            "image/png": "[encoded data removed]"
          },
          "metadata": {}
        }
      ]
    }
  ]
}